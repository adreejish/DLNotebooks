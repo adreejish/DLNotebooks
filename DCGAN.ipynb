{
 "cells": [
  {
   "cell_type": "code",
   "execution_count": 4,
   "id": "1cb1250c",
   "metadata": {},
   "outputs": [],
   "source": [
    "import tensorflow as tf"
   ]
  },
  {
   "cell_type": "code",
   "execution_count": 5,
   "id": "2e16acfc",
   "metadata": {},
   "outputs": [],
   "source": [
    "from tensorflow import keras\n",
    "from tensorflow.keras import layers\n",
    "import numpy as np\n",
    "import matplotlib.pyplot as plt\n",
    "import os\n",
    "import cv2\n",
    "from tensorflow.keras.layers import Input,Conv2D,PReLU,Conv2DTranspose,LeakyReLU,Flatten,Dense,Conv2DTranspose,LeakyReLU,BatchNormalization,ReLU,Reshape\n",
    "from tensorflow.keras import Sequential\n",
    "from tensorflow.keras.callbacks import ModelCheckpoint\n",
    "import time\n",
    "from tensorflow.keras.utils import Progbar"
   ]
  },
  {
   "cell_type": "code",
   "execution_count": 4,
   "id": "9fab6d88",
   "metadata": {},
   "outputs": [],
   "source": [
    "'''\n",
    "#for training on sagemaker\n",
    "#upload dataset as zipfile\n",
    "\n",
    "import boto3\n",
    "s3 = boto3.resource('s3')\n",
    "s3.Bucket('dcgan2').download_file('Abstract_gallery.zip','Abstract_gallery.zip') #replace 'dcgan2' with bucket name\n",
    "\n",
    "os.mkdir('datasets')\n",
    "\n",
    "import zipfile\n",
    "with zipfile.ZipFile('Abstract_gallery.zip', 'r') as zip_ref:\n",
    "    zip_ref.extractall('datasets')\n",
    "    \n",
    "path_to_image_directory='datasets/Abstract_gallery'\n",
    "'''"
   ]
  },
  {
   "cell_type": "code",
   "execution_count": 6,
   "id": "031c2f89",
   "metadata": {},
   "outputs": [],
   "source": [
    "path_to_image_directory='datasets/Abstract_gallery/Abstract_gallery'\n",
    "num_samples=2782\n",
    "#new_size=128\n",
    "new_size = 32\n",
    "batch_size = 128\n",
    "z_dim = 128 # noise dim\n",
    "gen_hidden_dim = 64 # generator hidden dim\n",
    "EPOCHS = 50"
   ]
  },
  {
   "cell_type": "code",
   "execution_count": 7,
   "id": "53c9ef56",
   "metadata": {},
   "outputs": [],
   "source": [
    "def get_dataset(path_to_image_directory,new_size,batch_size):\n",
    "    dataset = tf.keras.preprocessing.image_dataset_from_directory(path_to_image_directory,label_mode=None,batch_size=batch_size,image_size=(new_size,new_size))\n",
    "    return dataset   "
   ]
  },
  {
   "cell_type": "code",
   "execution_count": 8,
   "id": "c96c3d82",
   "metadata": {},
   "outputs": [
    {
     "name": "stdout",
     "output_type": "stream",
     "text": [
      "Found 2782 files belonging to 1 classes.\n"
     ]
    }
   ],
   "source": [
    "images_dataset=get_dataset(path_to_image_directory,new_size,batch_size)\n",
    "images_dataset = images_dataset.map(lambda x: x / 255.0)"
   ]
  },
  {
   "cell_type": "code",
   "execution_count": 10,
   "id": "98ccafbe",
   "metadata": {},
   "outputs": [
    {
     "data": {
      "image/png": "[encoded data removed]",
      "text/plain": [
       "<Figure size 432x288 with 1 Axes>"
      ]
     },
     "metadata": {
      "needs_background": "light"
     },
     "output_type": "display_data"
    }
   ],
   "source": [
    "for image in images_dataset.take(1):\n",
    "    plt.imshow(image[1])"
   ]
  },
  {
   "cell_type": "code",
   "execution_count": 11,
   "id": "bfeba065",
   "metadata": {},
   "outputs": [],
   "source": [
    "def get_discriminator(new_size):\n",
    "    model = Sequential()\n",
    "    model.add(Input(shape=(new_size,new_size,3)))\n",
    "    model.add(Conv2D(new_size,kernel_size=4,strides=2,padding='same'))\n",
    "    model.add(LeakyReLU(alpha=0.2))\n",
    "    model.add(Conv2D(new_size*2,kernel_size=4,strides=2,padding='same'))\n",
    "    model.add(LeakyReLU(alpha=0.2))\n",
    "    model.add(Conv2D(new_size*2,kernel_size=4,strides=2,padding='same'))\n",
    "    model.add(LeakyReLU(alpha=0.2))\n",
    "    model.add(Flatten())\n",
    "    model.add(Dense(1,activation='sigmoid'))\n",
    "    return model\n",
    "    "
   ]
  },
  {
   "cell_type": "code",
   "execution_count": 12,
   "id": "2e7a456b",
   "metadata": {},
   "outputs": [],
   "source": [
    "discriminator = get_discriminator(new_size)"
   ]
  },
  {
   "cell_type": "code",
   "execution_count": 13,
   "id": "c345c8b1",
   "metadata": {},
   "outputs": [
    {
     "name": "stdout",
     "output_type": "stream",
     "text": [
      "Model: \"sequential\"\n",
      "_________________________________________________________________\n",
      "Layer (type)                 Output Shape              Param #   \n",
      "=================================================================\n",
      "conv2d (Conv2D)              (None, 16, 16, 32)        1568      \n",
      "_________________________________________________________________\n",
      "leaky_re_lu (LeakyReLU)      (None, 16, 16, 32)        0         \n",
      "_________________________________________________________________\n",
      "conv2d_1 (Conv2D)            (None, 8, 8, 64)          32832     \n",
      "_________________________________________________________________\n",
      "leaky_re_lu_1 (LeakyReLU)    (None, 8, 8, 64)          0         \n",
      "_________________________________________________________________\n",
      "conv2d_2 (Conv2D)            (None, 4, 4, 64)          65600     \n",
      "_________________________________________________________________\n",
      "leaky_re_lu_2 (LeakyReLU)    (None, 4, 4, 64)          0         \n",
      "_________________________________________________________________\n",
      "flatten (Flatten)            (None, 1024)              0         \n",
      "_________________________________________________________________\n",
      "dense (Dense)                (None, 1)                 1025      \n",
      "=================================================================\n",
      "Total params: 101,025\n",
      "Trainable params: 101,025\n",
      "Non-trainable params: 0\n",
      "_________________________________________________________________\n"
     ]
    }
   ],
   "source": [
    "discriminator.summary()"
   ]
  },
  {
   "cell_type": "code",
   "execution_count": 14,
   "id": "297188a8",
   "metadata": {},
   "outputs": [],
   "source": [
    "def get_generator(z_dim,hidden_dim):\n",
    "    model=Sequential()\n",
    "    model.add(Input(shape=(z_dim)))\n",
    "    model.add(Dense(8 * 8 * z_dim))\n",
    "    model.add(Reshape((8, 8, z_dim)))\n",
    "    \n",
    "    model.add(Conv2DTranspose(4*hidden_dim, kernel_size=4, strides=2, padding=\"same\"))\n",
    "    model.add(BatchNormalization())\n",
    "    model.add(ReLU())\n",
    "    \n",
    "    '''\n",
    "    \n",
    "    model.add(Conv2DTranspose(2*hidden_dim, kernel_size=4, strides=2, padding=\"same\"))\n",
    "    model.add(BatchNormalization())\n",
    "    model.add(ReLU())\n",
    "    \n",
    "    model.add(Conv2DTranspose(hidden_dim, kernel_size=4, strides=2, padding=\"same\"))\n",
    "    model.add(BatchNormalization())\n",
    "    model.add(ReLU())\n",
    "    '''\n",
    "   \n",
    "    model.add(Conv2DTranspose(3, kernel_size=4, strides=2, padding=\"same\" , activation = 'tanh'))\n",
    "    \n",
    "    return model"
   ]
  },
  {
   "cell_type": "code",
   "execution_count": 15,
   "id": "aba7a0d0",
   "metadata": {},
   "outputs": [],
   "source": [
    "generator = get_generator(z_dim,gen_hidden_dim)"
   ]
  },
  {
   "cell_type": "code",
   "execution_count": 16,
   "id": "75b2b511",
   "metadata": {},
   "outputs": [
    {
     "name": "stdout",
     "output_type": "stream",
     "text": [
      "Model: \"sequential_1\"\n",
      "_________________________________________________________________\n",
      "Layer (type)                 Output Shape              Param #   \n",
      "=================================================================\n",
      "dense_1 (Dense)              (None, 8192)              1056768   \n",
      "_________________________________________________________________\n",
      "reshape (Reshape)            (None, 8, 8, 128)         0         \n",
      "_________________________________________________________________\n",
      "conv2d_transpose (Conv2DTran (None, 16, 16, 256)       524544    \n",
      "_________________________________________________________________\n",
      "batch_normalization (BatchNo (None, 16, 16, 256)       1024      \n",
      "_________________________________________________________________\n",
      "re_lu (ReLU)                 (None, 16, 16, 256)       0         \n",
      "_________________________________________________________________\n",
      "conv2d_transpose_1 (Conv2DTr (None, 32, 32, 3)         12291     \n",
      "=================================================================\n",
      "Total params: 1,594,627\n",
      "Trainable params: 1,594,115\n",
      "Non-trainable params: 512\n",
      "_________________________________________________________________\n"
     ]
    }
   ],
   "source": [
    "generator.summary()"
   ]
  },
  {
   "cell_type": "code",
   "execution_count": 17,
   "id": "03f3e2de",
   "metadata": {},
   "outputs": [],
   "source": [
    "cross_entropy = tf.keras.losses.BinaryCrossentropy(from_logits=True)"
   ]
  },
  {
   "cell_type": "code",
   "execution_count": 18,
   "id": "c0e6fc16",
   "metadata": {},
   "outputs": [],
   "source": [
    "def get_noise(num_imgs,z_dim):\n",
    "    noise_vector = tf.random.normal(shape=(num_imgs, z_dim))\n",
    "    return noise_vector"
   ]
  },
  {
   "cell_type": "code",
   "execution_count": 19,
   "id": "7b747431",
   "metadata": {},
   "outputs": [],
   "source": [
    "def discriminator_loss(real_img,z_dim,cross_entropy,num_imgs,discriminator,generator):\n",
    "    noise_vector = get_noise(num_imgs,z_dim)\n",
    "    fake_img = generator(noise_vector)\n",
    "    disc_fake_pred = discriminator(fake_img,training=True)\n",
    "    disc_real_pred = discriminator(real_img,training=True)\n",
    "    real_loss=cross_entropy(tf.ones_like(disc_real_pred),disc_real_pred)\n",
    "    fake_loss = cross_entropy(tf.zeros_like(disc_fake_pred),disc_fake_pred)\n",
    "    total_loss = (real_loss + fake_loss) / 2\n",
    "    return total_loss"
   ]
  },
  {
   "cell_type": "code",
   "execution_count": 20,
   "id": "31f5a41c",
   "metadata": {},
   "outputs": [],
   "source": [
    "def generator_loss(num_imgs,z_dim,cross_entropy,discriminator,generator):\n",
    "    noise_vector = get_noise(num_imgs,z_dim)\n",
    "    fake_img = generator(noise_vector,training=True)\n",
    "    disc_fake_pred = discriminator(fake_img)\n",
    "    loss = cross_entropy(tf.ones_like(disc_fake_pred),disc_fake_pred)\n",
    "    return loss"
   ]
  },
  {
   "cell_type": "code",
   "execution_count": 21,
   "id": "e924c479",
   "metadata": {},
   "outputs": [],
   "source": [
    "generator_optimizer = tf.keras.optimizers.Adam(1e-4)\n",
    "discriminator_optimizer = tf.keras.optimizers.Adam(1e-4)"
   ]
  },
  {
   "cell_type": "code",
   "execution_count": 22,
   "id": "9c3189da",
   "metadata": {},
   "outputs": [],
   "source": [
    "checkpoint_path = \"model_checkpoints/dcgan/cp.ckpt\"\n",
    "checkpoint_dir = os.path.dirname(checkpoint_path)\n",
    "checkpoint_prefix = os.path.join(checkpoint_dir, \"ckpt\")\n",
    "\n",
    "checkpoint = tf.train.Checkpoint(generator_optimizer=generator_optimizer,\n",
    "                                 discriminator_optimizer=discriminator_optimizer,\n",
    "                                 generator=generator,\n",
    "                                 discriminator=discriminator)"
   ]
  },
  {
   "cell_type": "code",
   "execution_count": 23,
   "id": "a9a0f0e9",
   "metadata": {},
   "outputs": [],
   "source": [
    "#generate and save 10 images for each epoch\n",
    "os.mkdir('generated_images')\n",
    "def generate_and_save(epoch):\n",
    "    noise_vector = get_noise(10,z_dim)\n",
    "    fake_images=generator(noise_vector)\n",
    "    dir_name='generated_images/epoch' + str(epoch)\n",
    "    os.mkdir(dir_name)\n",
    "    for index,image in enumerate(fake_images):\n",
    "        #image = cv2.cvtColor(image.numpy())\n",
    "        filename = 'generated_images/epoch' + str(epoch)+ '/' + str(index)+'.jpg'\n",
    "        #cv2.imwrite(filename, image) \n",
    "        tf.keras.utils.save_img(filename, image)\n",
    "\n",
    "        \n",
    "    \n",
    "    "
   ]
  },
  {
   "cell_type": "code",
   "execution_count": 24,
   "id": "e913d999",
   "metadata": {},
   "outputs": [],
   "source": [
    "@tf.function\n",
    "def train_step(images):#,z_dim,cross_entropy,discriminator,generator,batch_size):\n",
    "    num_imgs = batch_size\n",
    "    real_img = images\n",
    "    \n",
    "\n",
    "\n",
    "    with tf.GradientTape() as gen_tape, tf.GradientTape() as disc_tape:\n",
    "\n",
    "    \n",
    "        disc_loss = discriminator_loss(real_img,z_dim,cross_entropy,num_imgs,discriminator,generator)\n",
    "    \n",
    "    \n",
    "        gen_loss = generator_loss(num_imgs,z_dim,cross_entropy,discriminator,generator)\n",
    "\n",
    "    gradients_of_generator = gen_tape.gradient(gen_loss, generator.trainable_variables)\n",
    "    gradients_of_discriminator = disc_tape.gradient(disc_loss, discriminator.trainable_variables)\n",
    "\n",
    "    generator_optimizer.apply_gradients(zip(gradients_of_generator, generator.trainable_variables))\n",
    "    discriminator_optimizer.apply_gradients(zip(gradients_of_discriminator, discriminator.trainable_variables))"
   ]
  },
  {
   "cell_type": "code",
   "execution_count": 25,
   "id": "dc523b09",
   "metadata": {},
   "outputs": [],
   "source": [
    "def train(images_dataset,epochs):\n",
    "    for epoch in range(epochs):\n",
    "        pb_i = Progbar(num_samples)\n",
    "        start = time.time()\n",
    "        for image_batch in images_dataset:\n",
    "            \n",
    "            train_step(image_batch)\n",
    "            pb_i.add(batch_size)\n",
    "        \n",
    "        checkpoint.save(file_prefix = checkpoint_prefix) # save after every epoch\n",
    "        generate_and_save(epoch) #save 10 images \n",
    "        print('Time for epoch {} is {} sec'.format(epoch + 1, time.time()-start))\n",
    "        "
   ]
  },
  {
   "cell_type": "code",
   "execution_count": 26,
   "id": "72ecd3b6",
   "metadata": {},
   "outputs": [
    {
     "name": "stderr",
     "output_type": "stream",
     "text": [
      "/home/ec2-user/SageMaker/keras/backend.py:4994: UserWarning: \"`binary_crossentropy` received `from_logits=True`, but the `output` argument was produced by a sigmoid or softmax activation and thus does not represent logits. Was this intended?\"\n",
      "  '\"`binary_crossentropy` received `from_logits=True`, but the `output`'\n"
     ]
    },
    {
     "name": "stdout",
     "output_type": "stream",
     "text": [
      "2816/2782 [==============================] - 90s 32ms/step\n",
      "Time for epoch 1 is 89.88254284858704 sec\n",
      "2816/2782 [==============================] - 26s 9ms/step\n",
      "Time for epoch 2 is 26.355818033218384 sec\n",
      "2816/2782 [==============================] - 126s 45ms/step\n",
      "Time for epoch 3 is 125.82816076278687 sec\n",
      "2816/2782 [==============================] - 136s 48ms/step\n",
      "Time for epoch 4 is 135.66741394996643 sec\n",
      "2816/2782 [==============================] - 25s 9ms/step\n",
      "Time for epoch 5 is 24.86826777458191 sec\n",
      "2816/2782 [==============================] - 81s 29ms/step\n",
      "Time for epoch 6 is 81.09365510940552 sec\n",
      "2816/2782 [==============================] - 131s 47ms/step\n",
      "Time for epoch 7 is 131.41349291801453 sec\n",
      "2816/2782 [==============================] - 76s 27ms/step\n",
      "Time for epoch 8 is 75.86506247520447 sec\n",
      "2816/2782 [==============================] - 42s 15ms/step\n",
      "Time for epoch 9 is 42.58872842788696 sec\n",
      "2816/2782 [==============================] - 138s 49ms/step\n",
      "Time for epoch 10 is 138.30385661125183 sec\n",
      "2816/2782 [==============================] - 111s 39ms/step\n",
      "Time for epoch 11 is 110.65730094909668 sec\n",
      "2816/2782 [==============================] - 26s 9ms/step\n",
      "Time for epoch 12 is 25.793710708618164 sec\n",
      "2816/2782 [==============================] - 116s 41ms/step\n",
      "Time for epoch 13 is 116.31131601333618 sec\n",
      "2816/2782 [==============================] - 139s 50ms/step\n",
      "Time for epoch 14 is 139.70484828948975 sec\n",
      "2816/2782 [==============================] - 34s 12ms/step\n",
      "Time for epoch 15 is 34.27380561828613 sec\n",
      "2816/2782 [==============================] - 85s 30ms/step\n",
      "Time for epoch 16 is 85.64403700828552 sec\n",
      "2816/2782 [==============================] - 131s 46ms/step\n",
      "Time for epoch 17 is 130.82563400268555 sec\n",
      "2816/2782 [==============================] - 76s 27ms/step\n",
      "Time for epoch 18 is 75.80655932426453 sec\n",
      "2816/2782 [==============================] - 42s 15ms/step\n",
      "Time for epoch 19 is 82.17446780204773 sec\n",
      "2816/2782 [==============================] - 138s 49ms/step\n",
      "Time for epoch 20 is 138.2192521095276 sec\n",
      "2816/2782 [==============================] - 79s 28ms/step\n",
      "Time for epoch 21 is 78.83093905448914 sec\n",
      "2816/2782 [==============================] - 38s 13ms/step\n",
      "Time for epoch 22 is 38.29145407676697 sec\n",
      "2816/2782 [==============================] - 130s 46ms/step\n",
      "Time for epoch 23 is 130.70344877243042 sec\n",
      "2816/2782 [==============================] - 121s 43ms/step\n",
      "Time for epoch 24 is 121.31319093704224 sec\n",
      "2816/2782 [==============================] - 24s 9ms/step\n",
      "Time for epoch 25 is 24.46664810180664 sec\n",
      "2816/2782 [==============================] - 90s 32ms/step\n",
      "Time for epoch 26 is 89.90024161338806 sec\n",
      "2816/2782 [==============================] - 134s 48ms/step\n",
      "Time for epoch 27 is 142.28733372688293 sec\n",
      "2816/2782 [==============================] - 56s 20ms/step\n",
      "Time for epoch 28 is 56.358497619628906 sec\n",
      "2816/2782 [==============================] - 53s 19ms/step\n",
      "Time for epoch 29 is 52.86707067489624 sec\n",
      "2816/2782 [==============================] - 137s 49ms/step\n",
      "Time for epoch 30 is 142.22985792160034 sec\n",
      "2816/2782 [==============================] - 97s 35ms/step\n",
      "Time for epoch 31 is 97.4872989654541 sec\n",
      "2816/2782 [==============================] - 27s 9ms/step\n",
      "Time for epoch 32 is 26.64435648918152 sec\n",
      "2816/2782 [==============================] - 127s 45ms/step\n",
      "Time for epoch 33 is 127.0103874206543 sec\n",
      "2816/2782 [==============================] - 137s 49ms/step\n",
      "Time for epoch 34 is 137.35324621200562 sec\n",
      "2816/2782 [==============================] - 25s 9ms/step\n",
      "Time for epoch 35 is 24.800511837005615 sec\n",
      "2816/2782 [==============================] - 77s 27ms/step\n",
      "Time for epoch 36 is 77.3890209197998 sec\n",
      "2816/2782 [==============================] - 131s 47ms/step\n",
      "Time for epoch 37 is 131.62546372413635 sec\n",
      "2816/2782 [==============================] - 79s 28ms/step\n",
      "Time for epoch 38 is 79.21419334411621 sec\n",
      "2816/2782 [==============================] - 39s 14ms/step\n",
      "Time for epoch 39 is 38.89475440979004 sec\n",
      "2816/2782 [==============================] - 138s 49ms/step\n",
      "Time for epoch 40 is 138.28019905090332 sec\n",
      "2816/2782 [==============================] - 114s 40ms/step\n",
      "Time for epoch 41 is 113.93528628349304 sec\n",
      "2816/2782 [==============================] - 26s 9ms/step\n",
      "Time for epoch 42 is 25.693887948989868 sec\n",
      "2816/2782 [==============================] - 110s 39ms/step\n",
      "Time for epoch 43 is 110.43940258026123 sec\n",
      "2816/2782 [==============================] - 139s 49ms/step\n",
      "Time for epoch 44 is 138.9779989719391 sec\n",
      "2816/2782 [==============================] - 41s 14ms/step\n",
      "Time for epoch 45 is 40.858078718185425 sec\n",
      "2816/2782 [==============================] - 77s 27ms/step\n",
      "Time for epoch 46 is 77.16798138618469 sec\n",
      "2816/2782 [==============================] - 131s 47ms/step\n",
      "Time for epoch 47 is 142.28855419158936 sec\n",
      "2816/2782 [==============================] - 74s 26ms/step\n",
      "Time for epoch 48 is 74.57135128974915 sec\n",
      "2816/2782 [==============================] - 42s 15ms/step\n",
      "Time for epoch 49 is 42.63663411140442 sec\n",
      "2816/2782 [==============================] - 138s 49ms/step\n",
      "Time for epoch 50 is 137.91087341308594 sec\n"
     ]
    }
   ],
   "source": [
    "train(images_dataset, EPOCHS)"
   ]
  },
  {
   "cell_type": "code",
   "execution_count": 27,
   "id": "1f9f73e2",
   "metadata": {},
   "outputs": [
    {
     "name": "stdout",
     "output_type": "stream",
     "text": [
      "WARNING:tensorflow:Compiled the loaded model, but the compiled metrics have yet to be built. `model.compile_metrics` will be empty until you train or evaluate the model.\n",
      "INFO:tensorflow:Assets written to: models/dcgan/generator/assets\n",
      "WARNING:tensorflow:Compiled the loaded model, but the compiled metrics have yet to be built. `model.compile_metrics` will be empty until you train or evaluate the model.\n",
      "INFO:tensorflow:Assets written to: models/dcgan/discriminator/assets\n"
     ]
    }
   ],
   "source": [
    "generator.save('models/dcgan/generator')\n",
    "discriminator.save('models/dcgan/discriminator')"
   ]
  },
  {
   "cell_type": "code",
   "execution_count": 28,
   "id": "fc7a7870",
   "metadata": {},
   "outputs": [],
   "source": [
    "#generate an image\n",
    "noise_vector = get_noise(10,z_dim)\n",
    "fake_image=generator(noise_vector)"
   ]
  },
  {
   "cell_type": "code",
   "execution_count": 29,
   "id": "d90fb080",
   "metadata": {},
   "outputs": [
    {
     "name": "stderr",
     "output_type": "stream",
     "text": [
      "Clipping input data to the valid range for imshow with RGB data ([0..1] for floats or [0..255] for integers).\n"
     ]
    },
    {
     "data": {
      "text/plain": [
       "<matplotlib.image.AxesImage at 0x7f3fd89d2860>"
      ]
     },
     "execution_count": 29,
     "metadata": {},
     "output_type": "execute_result"
    },
    {
     "data": {
      "image/png": "[encoded data removed]",
      "text/plain": [
       "<Figure size 432x288 with 1 Axes>"
      ]
     },
     "metadata": {
      "needs_background": "light"
     },
     "output_type": "display_data"
    }
   ],
   "source": [
    "plt.imshow(fake_image[0])"
   ]
  },
  {
   "cell_type": "code",
   "execution_count": null,
   "id": "867610f1",
   "metadata": {},
   "outputs": [],
   "source": [
    "#train for longer for better results"
   ]
  }
 ],
 "metadata": {
  "kernelspec": {
   "display_name": "DLNotebooks",
   "language": "python",
   "name": "dlnotebooks"
  },
  "language_info": {
   "codemirror_mode": {
    "name": "ipython",
    "version": 3
   },
   "file_extension": ".py",
   "mimetype": "text/x-python",
   "name": "python",
   "nbconvert_exporter": "python",
   "pygments_lexer": "ipython3",
   "version": "3.8.3"
  }
 },
 "nbformat": 4,
 "nbformat_minor": 5
}
